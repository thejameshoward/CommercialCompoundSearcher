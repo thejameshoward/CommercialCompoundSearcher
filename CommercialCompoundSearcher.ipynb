{
 "cells": [
  {
   "cell_type": "markdown",
   "metadata": {},
   "source": [
    "## CommercialCompoundSearcher\n",
    "An internal Sigman Lab tool for assessing the commercial availability of molecules based on the Pubchem database. We highly recommended to begin with a small subset (~25 molecules) to test the script first before using it on a larger dataset. Once a few variables are defined in later cells (like vendors to ignore), the script can be run autonomously by running all cells.\n",
    "\n",
    "### Imports"
   ]
  },
  {
   "cell_type": "code",
   "execution_count": null,
   "metadata": {},
   "outputs": [],
   "source": [
    "# Built ins\n",
    "import urllib\n",
    "from pathlib import Path\n",
    "from pprint import pprint\n",
    "\n",
    "# Data manipulation\n",
    "import pandas as pd\n",
    "import numpy as np\n",
    "\n",
    "# Custom\n",
    "from utils import canonicalize_smiles, smiles_to_inchi_key, smiles_to_inchi\n",
    "from utils import remove_duplicate_inchi_keys\n",
    "from utils import get_cid_from_inchi_key, get_vendor_list_from_cid\n",
    "from utils import convert_str_list\n",
    "from utils import remove_specific_vendors_from_dataframe\n",
    "from utils import draw_molecules_to_grid_image"
   ]
  },
  {
   "cell_type": "markdown",
   "metadata": {},
   "source": [
    "## Reading in list of smiles\n",
    "\n",
    "The list of smiles should be a plaintext document with __SMILES__ in the first line.\n",
    "\n",
    "```\n",
    "┌────────────────────────┐\n",
    "│ SMILES                 │\n",
    "│ CC(=O)OCC[N+](C)(C)C   │\n",
    "│ CC(C[N+](C)(C)C)OC(=O) │\n",
    "│ ...                    │\n",
    "└────────────────────────┘\n",
    "\n",
    "```\n"
   ]
  },
  {
   "cell_type": "code",
   "execution_count": null,
   "metadata": {},
   "outputs": [],
   "source": [
    "# Define a file\n",
    "file = Path('./data/indoles.txt')\n",
    "\n",
    "# Read in the text file\n",
    "df = pd.read_table(file, header=0)\n",
    "\n",
    "# Check that the file is formatted correctly\n",
    "assert 'SMILES' in df.columns\n",
    "\n",
    "display(df)"
   ]
  },
  {
   "cell_type": "markdown",
   "metadata": {},
   "source": [
    "## Canonicalization and additional molecular identifiers\n",
    "\n",
    "This section is used to canonicalize smiles and add additional molecular identifier information using RDKit. The output of this block will contain warnings (and potentially errors) from RDKit. Many of these errors (such as None mol from RDKit) are handled by removing the SMILES string and storing it in a separate file. "
   ]
  },
  {
   "cell_type": "code",
   "execution_count": null,
   "metadata": {},
   "outputs": [],
   "source": [
    "# Apply canonicalization\n",
    "df['SMILES'] = df['SMILES'].apply(canonicalize_smiles)\n",
    "\n",
    "# Add InChI column\n",
    "df['INCHI'] = df['SMILES'].apply(smiles_to_inchi)\n",
    "\n",
    "# Add InChI key column\n",
    "df['INCHI_KEY'] = df['SMILES'].apply(smiles_to_inchi_key)\n",
    "\n",
    "# Get all the smiles that failed to make InChI or InChI keys\n",
    "failed = df[(df['INCHI'].isna()) | (df['INCHI_KEY'].isna())]\n",
    "\n",
    "# Get every successfully standardized row\n",
    "df = df[~(df['INCHI'].isna()) | ~(df['INCHI_KEY'].isna())]\n",
    "\n",
    "failed.to_csv('./results/failed_canonicalization.csv', index=False)\n",
    "\n",
    "df.to_csv('./results/canonicalized.csv', index=False)\n",
    "\n",
    "display(failed)\n",
    "display(df)"
   ]
  },
  {
   "cell_type": "markdown",
   "metadata": {},
   "source": [
    "## Remove duplicate InChI keys\n",
    "\n",
    "Because we will be using REST queries to gather vendor information, it is important to remove duplicates because they will \"waste\" and REST query. This procedure removes __exact__ duplicates of the InChI key in the dataframe even if the SMILES string is different."
   ]
  },
  {
   "cell_type": "code",
   "execution_count": null,
   "metadata": {},
   "outputs": [],
   "source": [
    "# Remove exact duplicates\n",
    "df, duplicates = remove_duplicate_inchi_keys(df=df)\n",
    "\n",
    "# For your viewing pleasure\n",
    "display(df)\n",
    "display(duplicates)\n",
    "\n",
    "# Save the results for good book keeping.\n",
    "df.to_csv('./results/added_molecular_identifiers.csv', index=False)\n",
    "duplicates.to_csv('./results/duplicate_molecular_identifiers.csv', index=False)"
   ]
  },
  {
   "cell_type": "markdown",
   "metadata": {},
   "source": [
    "## Query Pubchem for CID and Vendors\n",
    "\n",
    "The best identifier to use for querying Pubchem is the Pubchem Compound ID (CID). For more information on how Pubchem standardizes its archive, please see the [compounds webpage](https://pubchem.ncbi.nlm.nih.gov/docs/compounds). This section will first obtain a CID for a given InChi key and subsequently query for a list of vendors. The REST queries each take at least 200 ms, and there are two queries per molecule.\n",
    "\n",
    "__If you stop this cell while it is running, you will lose all of your progress__"
   ]
  },
  {
   "cell_type": "code",
   "execution_count": null,
   "metadata": {},
   "outputs": [],
   "source": [
    "# Get inchi keys as a list\n",
    "inchi_keys = df['INCHI_KEY'].to_list()\n",
    "\n",
    "# This assertion statement will fail if you have duplicate InChi keys\n",
    "# If you don't care, remove the following line\n",
    "assert len(list(set(inchi_keys))) == df.shape[0]\n",
    "\n",
    "# Get the total length of InChI keys for tracking progress\n",
    "total = len(inchi_keys)\n",
    "\n",
    "# Enumerate over all inchi keys\n",
    "for i, inchi_key in enumerate(inchi_keys):\n",
    "    print(f'Working on {i + 1} of {total} ({round((i + 1) / total * 100, 2)}%)')\n",
    "\n",
    "    # Set cid to nan if we can't find it\n",
    "    cid = np.nan\n",
    "\n",
    "    # Try to get the CID, if there is no CID, skip\n",
    "    try:\n",
    "        cid = get_cid_from_inchi_key(inchi_key)\n",
    "    except urllib.error.HTTPError as e:\n",
    "        print(f'Could not convert InChi Key {inchi_key} to CID because {e}. Skipping.')\n",
    "        continue\n",
    "\n",
    "    # Try to a list of vendors\n",
    "    try:\n",
    "        vendors = list(set(get_vendor_list_from_cid(cid)))\n",
    "    except urllib.error.HTTPError as e:\n",
    "        print(f'Could not get vendor list from CID {cid}.')\n",
    "        vendors = []\n",
    "\n",
    "    # Check how many instances of that INCHI_KEY are in the df\n",
    "    indices = df[df['INCHI_KEY'] == inchi_key].index.values\n",
    "    if len(indices) != 1:\n",
    "        print(f'WARNING: Found more than one inchi key {inchi_key}!')\n",
    "\n",
    "    # Add the CID/VENDORS based on inchi_key\n",
    "    df.loc[df['INCHI_KEY'] == inchi_key, 'CID'] = str(cid)\n",
    "    df.loc[df['INCHI_KEY'] == inchi_key, 'VENDORS'] = str(vendors)\n",
    "\n",
    "# Get the df of molecules for which there is no CID\n",
    "no_cids = df[df['CID'].astype(float).isna()].copy(deep=True)\n",
    "\n",
    "# Get the df of molecules for which there is a CID but no vendors\n",
    "# We're going to convert the lists stored in 'VENDORS' to a string\n",
    "# for string comparison. There may be a better way to do this\n",
    "no_vendors = df[(df['VENDORS'].astype(str) == '[]') & ~(df['CID'].astype(float).isna())].copy(deep=True)\n",
    "\n",
    "# Get the result df that has both CIDs and some vendors\n",
    "df = df[~(df['VENDORS'].astype(str) == '[]') & ~(df['CID'].astype(float).isna())]\n",
    "\n",
    "# Save the different dataframes\n",
    "df.to_csv('./results/filtered_for_cid_and_vendors.csv', index=False)\n",
    "no_cids.to_csv('./results/no_cid_found.csv', index=False)\n",
    "no_vendors.to_csv('./results/no_vendors_found.csv', index=False)\n",
    "\n",
    "display(df)"
   ]
  },
  {
   "cell_type": "markdown",
   "metadata": {},
   "source": [
    "## Filtering Vendors\n",
    "\n",
    "The term \"commercial availability\" may differ between applications. Some vendors report that a compound is purchasable but will only synthesize it upon request. Additionally, the geographic location of the vendor's warehouse may lead to extended shipping times. In this section, we can filter vendors by selecting them from a list of total vendors.\n",
    "\n",
    "The next cells are organized into separate steps."
   ]
  },
  {
   "cell_type": "code",
   "execution_count": null,
   "metadata": {},
   "outputs": [],
   "source": [
    "# Optional - read in the previous dataframe so you don't have to run all cells\n",
    "#df = pd.read_csv('./results/filtered_for_cid_and_vendors.csv')"
   ]
  },
  {
   "cell_type": "code",
   "execution_count": null,
   "metadata": {},
   "outputs": [],
   "source": [
    "# Convert the string representation of \n",
    "# the list into a regular python list\n",
    "df['VENDORS'] = df['VENDORS'].astype(object)\n",
    "df['VENDORS'] = df['VENDORS'].apply(convert_str_list)\n",
    "\n",
    "# Print the total list of vendors\n",
    "list_of_current_vendors = list(set([vendor for vendor_list in df['VENDORS'].to_list() for vendor in vendor_list]))\n",
    "print(f'UNIQUE VENDORS:')\n",
    "pprint(list_of_current_vendors)\n",
    "print(f'\\nN_UNIQUE_VENDORS: {len(list_of_current_vendors)}')"
   ]
  },
  {
   "cell_type": "markdown",
   "metadata": {},
   "source": [
    "#### Select vendors to keep __OR__ vendors to remove\n",
    "\n",
    "Two variables are declared below. Define one and only one of these variables to be a list of vendor strings. __This section relies on exact string comparison. Thus, it is important that the **exact** string is used from the block above.__ We recommend using VENDORS_TO_REMOVE to be more deliberate with vendor selection.\n",
    "\n",
    "(experimental) We've included a list of vendors as a template for VENDORS_TO_KEEP."
   ]
  },
  {
   "cell_type": "code",
   "execution_count": null,
   "metadata": {},
   "outputs": [],
   "source": [
    "# Define only one of these as a list\n",
    "VENDORS_TO_KEEP = ['TCI (Tokyo Chemical Industry)',\n",
    " 'Ambeed',\n",
    " 'Combi-Blocks',\n",
    " 'Shanghai Tauto Biotech Co., Ltd',\n",
    " 'Thermo Fisher Scientific',\n",
    " 'Sigma-Aldrich',\n",
    " 'VWR, Part of Avantor']\n",
    "\n",
    "VENDORS_TO_REMOVE = None\n",
    "\n",
    "# Print the total list of vendors\n",
    "# Get the list of current vendors (again)\n",
    "list_of_current_vendors = list(set([vendor for vendor_list in df['VENDORS'].to_list() for vendor in vendor_list]))\n",
    "\n",
    "# Convert vendors to keep into a vendors_to_remove list\n",
    "if VENDORS_TO_REMOVE is None and VENDORS_TO_KEEP is not None:\n",
    "    VENDORS_TO_REMOVE = [x for x in list_of_current_vendors if x not in VENDORS_TO_KEEP]\n",
    "\n",
    "# Illegal options\n",
    "elif VENDORS_TO_REMOVE is not None and VENDORS_TO_KEEP is not None:\n",
    "    raise ValueError(f'Define either VENDORS_TO_REMOVE or VENDORS_TO_KEEP as a list not both.')\n",
    "\n",
    "# User not removing any vendors\n",
    "elif VENDORS_TO_REMOVE is None and VENDORS_TO_KEEP is None:\n",
    "    VENDORS_TO_REMOVE = []\n",
    "\n",
    "else:\n",
    "    raise ValueError(f'Make sure you define the unused variable at the beginning of this cell to None')\n",
    "\n",
    "# Remove the unwanted vendors\n",
    "df = remove_specific_vendors_from_dataframe(df, vendors=VENDORS_TO_REMOVE)\n",
    "\n",
    "# Get the new list of vendors\n",
    "list_of_current_vendors = list(set([vendor for vendor_list in df['VENDORS'].to_list() for vendor in vendor_list]))\n",
    "print(f'UNIQUE VENDORS:')\n",
    "pprint(list_of_current_vendors)\n",
    "print(f'\\nN_UNIQUE_VENDORS: {len(list_of_current_vendors)}')\n",
    "\n",
    "# Purge empty df entries now\n",
    "df = df[~(df['VENDORS'].astype(str) == '[]')]\n",
    "\n",
    "display(df)"
   ]
  },
  {
   "cell_type": "markdown",
   "metadata": {},
   "source": [
    "#### Save the curated list of molecules"
   ]
  },
  {
   "cell_type": "code",
   "execution_count": null,
   "metadata": {},
   "outputs": [],
   "source": [
    "df.to_csv('./FINAL_LIBRARY_CURATED.csv', index=False)"
   ]
  },
  {
   "cell_type": "markdown",
   "metadata": {},
   "source": [
    "## Drawing molecules 🥳 !\n",
    "\n",
    "In this section we've included some useful functions for drawing molecules in your library."
   ]
  },
  {
   "cell_type": "code",
   "execution_count": null,
   "metadata": {},
   "outputs": [],
   "source": [
    "# Get a list of all smiles\n",
    "smiles = df['SMILES'].to_list()\n",
    "\n",
    "print(f'Number of SMILES: {len(smiles)}')\n",
    "\n",
    "# Get the PIL image of the grid by passing smiles\n",
    "# to the draw function the number of molecules per row\n",
    "img = draw_molecules_to_grid_image(smiles, mols_per_row=6, maxMols=163, img_resolution=600)\n",
    "\n",
    "display(img)"
   ]
  }
 ],
 "metadata": {
  "kernelspec": {
   "display_name": "commercialSearch",
   "language": "python",
   "name": "python3"
  },
  "language_info": {
   "codemirror_mode": {
    "name": "ipython",
    "version": 3
   },
   "file_extension": ".py",
   "mimetype": "text/x-python",
   "name": "python",
   "nbconvert_exporter": "python",
   "pygments_lexer": "ipython3",
   "version": "3.11.6"
  },
  "orig_nbformat": 4
 },
 "nbformat": 4,
 "nbformat_minor": 2
}
